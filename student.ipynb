{
 "cells": [
  {
   "cell_type": "markdown",
   "id": "b518c2fd",
   "metadata": {},
   "source": [
    "## Phase 5 Capstone Project\n",
    "\n",
    "Group Members\n",
    "\n",
    "* Wendy Muturi\n",
    "* Mulei Mutuku\n",
    "* Margaret Mitey\n",
    "* Jeff Kiarie\n",
    "* Linus Gichuhi\n",
    "* Joshua Ooko\n",
    "\n",
    "## Business Understanding"
   ]
  },
  {
   "cell_type": "markdown",
   "id": "26876bcd",
   "metadata": {},
   "source": [
    "### Introduction\n",
    "\n",
    "In an age where culinary diversity and dining out have become integral parts of our social fabric, choosing the perfect restaurant can be both exciting and overwhelming. With an abundance of dining options ranging from quaint bistros to exotic eateries, making a dining decision has never been more challenging.\n",
    "Traditional restaurant websites have long relied on filters based on amenities, location, or cuisine types, providing users with a plethora of options to sift through. However, as the restaurant industry evolves and culinary landscapes expand, the need for a more refined and personalized approach to restaurant discovery has become evident.\n",
    "Enter the era of restaurant recommendation systems—a technological marvel that goes beyond the mundane task of filtering restaurants based on their amenities. These systems leverage the power of data science, machine learning, and user preferences to deliver tailored dining suggestions that match your unique tastes and preferences.\n",
    "\n",
    "In a world where time is precious and choices are abundant, restaurant recommendation systems offer an invaluable solution by enhancing the dining experience in ways that traditional filters simply cannot.\n",
    "This article delves into the world of restaurant recommendation systems, exploring their importance, functionality, and the transformative impact they have on the way we discover and enjoy culinary delights.\n",
    "We will unveil how these intelligent algorithms are reshaping the gastronomic landscape, catering to the ever-evolving preferences of diners and revolutionizing the art of restaurant selection. Join us on this journey as we unravel the magic of restaurant recommendation systems, offering a taste of the future of dining exploration.\n",
    "\n",
    "\n",
    "### Problem Statement.\n",
    "\n",
    "Traditional restaurant search platforms rely on static filters that do not adapt to individual preferences, resulting in time-consuming and often frustrating experiences for diners who seek restaurants that align with their unique tastes.\n",
    "By prioritizing amenities over personalized recommendations, existing systems hinder the exploration of new culinary experiences and limit the potential for serendipitous discoveries that could enhance the dining experience.\n",
    "\n",
    "\n",
    "### Main Objective\n",
    "\n",
    "To develop an interactive and user-friendly restaurant recommendation system.\n",
    "\n",
    "### Specific Objective\n",
    "To design and develop a user-friendly website that seamlessly integrates the advanced restaurant recommendation system, allowing users to access personalized dining suggestions.\n",
    "\n",
    "To identify and analyze key factors that significantly influence restaurant ratings and user preferences, incorporating this knowledge into the recommendation system's algorithms.\n",
    "\n",
    "To implement a robust data collection and processing pipeline to continually update user data and restaurant information, ensuring the recommendation system remains dynamic and accurate.\n",
    "\n",
    "### Metric of Success\n",
    "\n",
    "To consider our project successful, we aim to achieve high accuracy in classifying user sentiment, maintain a low Root Mean Square Error (RMSE) in predicting engagement, and offer insightful location-based analysis.\n"
   ]
  },
  {
   "cell_type": "markdown",
   "id": "e9ba433d",
   "metadata": {},
   "source": [
    "## Data Understanding\n",
    "\n",
    "We will collect Yelp review data, including text reviews, star ratings, and business information, from the [Yelp dataset](https://www.yelp.com/dataset), which is publicly available and contains a large number of reviews across various businesses and locations.Our plan involves obtaining a substantial sample of Yelp reviews spanning different business categories, locations, and star ratings. This data will serve as our training and evaluation dataset.\n",
    "\n",
    "Features include: \n",
    "**review_id:** A unique identifier for each review,\n",
    "\n",
    "**user_id:** A unique identifier for each user who submitted a review,\n",
    "\n",
    "**business_id:** A unique identifier for each business being reviewed,\n",
    "\n",
    "**stars:** The rating given by the user in terms of stars (e.g., 1.0, 2.0, 3.0, 4.0, 5.0),\n",
    "\n",
    "**useful:** A count of how many users found the review useful,\n",
    "\n",
    "**funny:** A count of how many users found the review funny,\n",
    "\n",
    "**cool:** A count of how many users found the review cool,\n",
    "\n",
    "**text:** The actual text content of the review and\n",
    "\n",
    "**date:** The date and time when the review was submitted.Due to the dataset being large we have constricted it to 15,438 rows which should be enough for nlp modeling.\n",
    "\n",
    "\n"
   ]
  },
  {
   "cell_type": "code",
   "execution_count": 2,
   "id": "145d44e2",
   "metadata": {},
   "outputs": [],
   "source": [
    "# importing necesarry packages\n",
    "\n",
    "import numpy as np\n",
    "import pandas as pd\n",
    "import matplotlib.pyplot as plt\n",
    "import seaborn as sns\n",
    "\n",
    "\n",
    "# plotting styles\n",
    "plt.style.use(\"fivethirtyeight\")\n",
    "%matplotlib inline"
   ]
  },
  {
   "cell_type": "code",
   "execution_count": 3,
   "id": "2773b0e8",
   "metadata": {},
   "outputs": [
    {
     "data": {
      "text/html": [
       "<div>\n",
       "<style scoped>\n",
       "    .dataframe tbody tr th:only-of-type {\n",
       "        vertical-align: middle;\n",
       "    }\n",
       "\n",
       "    .dataframe tbody tr th {\n",
       "        vertical-align: top;\n",
       "    }\n",
       "\n",
       "    .dataframe thead th {\n",
       "        text-align: right;\n",
       "    }\n",
       "</style>\n",
       "<table border=\"1\" class=\"dataframe\">\n",
       "  <thead>\n",
       "    <tr style=\"text-align: right;\">\n",
       "      <th></th>\n",
       "      <th>business_id</th>\n",
       "      <th>name</th>\n",
       "      <th>address</th>\n",
       "      <th>city</th>\n",
       "      <th>state</th>\n",
       "      <th>postal_code</th>\n",
       "      <th>latitude</th>\n",
       "      <th>longitude</th>\n",
       "      <th>stars</th>\n",
       "      <th>review_count</th>\n",
       "      <th>is_open</th>\n",
       "      <th>attributes</th>\n",
       "      <th>categories</th>\n",
       "      <th>hours</th>\n",
       "    </tr>\n",
       "  </thead>\n",
       "  <tbody>\n",
       "    <tr>\n",
       "      <th>0</th>\n",
       "      <td>Pns2l4eNsfO8kk83dixA6A</td>\n",
       "      <td>Abby Rappoport, LAC, CMQ</td>\n",
       "      <td>1616 Chapala St, Ste 2</td>\n",
       "      <td>Santa Barbara</td>\n",
       "      <td>CA</td>\n",
       "      <td>93101</td>\n",
       "      <td>34.426679</td>\n",
       "      <td>-119.711197</td>\n",
       "      <td>5.0</td>\n",
       "      <td>7</td>\n",
       "      <td>0</td>\n",
       "      <td>{'ByAppointmentOnly': 'True'}</td>\n",
       "      <td>Doctors, Traditional Chinese Medicine, Naturop...</td>\n",
       "      <td>NaN</td>\n",
       "    </tr>\n",
       "    <tr>\n",
       "      <th>1</th>\n",
       "      <td>mpf3x-BjTdTEA3yCZrAYPw</td>\n",
       "      <td>The UPS Store</td>\n",
       "      <td>87 Grasso Plaza Shopping Center</td>\n",
       "      <td>Affton</td>\n",
       "      <td>MO</td>\n",
       "      <td>63123</td>\n",
       "      <td>38.551126</td>\n",
       "      <td>-90.335695</td>\n",
       "      <td>3.0</td>\n",
       "      <td>15</td>\n",
       "      <td>1</td>\n",
       "      <td>{'BusinessAcceptsCreditCards': 'True'}</td>\n",
       "      <td>Shipping Centers, Local Services, Notaries, Ma...</td>\n",
       "      <td>{'Monday': '0:0-0:0', 'Tuesday': '8:0-18:30', ...</td>\n",
       "    </tr>\n",
       "    <tr>\n",
       "      <th>2</th>\n",
       "      <td>tUFrWirKiKi_TAnsVWINQQ</td>\n",
       "      <td>Target</td>\n",
       "      <td>5255 E Broadway Blvd</td>\n",
       "      <td>Tucson</td>\n",
       "      <td>AZ</td>\n",
       "      <td>85711</td>\n",
       "      <td>32.223236</td>\n",
       "      <td>-110.880452</td>\n",
       "      <td>3.5</td>\n",
       "      <td>22</td>\n",
       "      <td>0</td>\n",
       "      <td>{'BikeParking': 'True', 'BusinessAcceptsCredit...</td>\n",
       "      <td>Department Stores, Shopping, Fashion, Home &amp; G...</td>\n",
       "      <td>{'Monday': '8:0-22:0', 'Tuesday': '8:0-22:0', ...</td>\n",
       "    </tr>\n",
       "    <tr>\n",
       "      <th>3</th>\n",
       "      <td>MTSW4McQd7CbVtyjqoe9mw</td>\n",
       "      <td>St Honore Pastries</td>\n",
       "      <td>935 Race St</td>\n",
       "      <td>Philadelphia</td>\n",
       "      <td>PA</td>\n",
       "      <td>19107</td>\n",
       "      <td>39.955505</td>\n",
       "      <td>-75.155564</td>\n",
       "      <td>4.0</td>\n",
       "      <td>80</td>\n",
       "      <td>1</td>\n",
       "      <td>{'RestaurantsDelivery': 'False', 'OutdoorSeati...</td>\n",
       "      <td>Restaurants, Food, Bubble Tea, Coffee &amp; Tea, B...</td>\n",
       "      <td>{'Monday': '7:0-20:0', 'Tuesday': '7:0-20:0', ...</td>\n",
       "    </tr>\n",
       "    <tr>\n",
       "      <th>4</th>\n",
       "      <td>mWMc6_wTdE0EUBKIGXDVfA</td>\n",
       "      <td>Perkiomen Valley Brewery</td>\n",
       "      <td>101 Walnut St</td>\n",
       "      <td>Green Lane</td>\n",
       "      <td>PA</td>\n",
       "      <td>18054</td>\n",
       "      <td>40.338183</td>\n",
       "      <td>-75.471659</td>\n",
       "      <td>4.5</td>\n",
       "      <td>13</td>\n",
       "      <td>1</td>\n",
       "      <td>{'BusinessAcceptsCreditCards': 'True', 'Wheelc...</td>\n",
       "      <td>Brewpubs, Breweries, Food</td>\n",
       "      <td>{'Wednesday': '14:0-22:0', 'Thursday': '16:0-2...</td>\n",
       "    </tr>\n",
       "  </tbody>\n",
       "</table>\n",
       "</div>"
      ],
      "text/plain": [
       "              business_id                      name  \\\n",
       "0  Pns2l4eNsfO8kk83dixA6A  Abby Rappoport, LAC, CMQ   \n",
       "1  mpf3x-BjTdTEA3yCZrAYPw             The UPS Store   \n",
       "2  tUFrWirKiKi_TAnsVWINQQ                    Target   \n",
       "3  MTSW4McQd7CbVtyjqoe9mw        St Honore Pastries   \n",
       "4  mWMc6_wTdE0EUBKIGXDVfA  Perkiomen Valley Brewery   \n",
       "\n",
       "                           address           city state postal_code  \\\n",
       "0           1616 Chapala St, Ste 2  Santa Barbara    CA       93101   \n",
       "1  87 Grasso Plaza Shopping Center         Affton    MO       63123   \n",
       "2             5255 E Broadway Blvd         Tucson    AZ       85711   \n",
       "3                      935 Race St   Philadelphia    PA       19107   \n",
       "4                    101 Walnut St     Green Lane    PA       18054   \n",
       "\n",
       "    latitude   longitude  stars  review_count  is_open  \\\n",
       "0  34.426679 -119.711197    5.0             7        0   \n",
       "1  38.551126  -90.335695    3.0            15        1   \n",
       "2  32.223236 -110.880452    3.5            22        0   \n",
       "3  39.955505  -75.155564    4.0            80        1   \n",
       "4  40.338183  -75.471659    4.5            13        1   \n",
       "\n",
       "                                          attributes  \\\n",
       "0                      {'ByAppointmentOnly': 'True'}   \n",
       "1             {'BusinessAcceptsCreditCards': 'True'}   \n",
       "2  {'BikeParking': 'True', 'BusinessAcceptsCredit...   \n",
       "3  {'RestaurantsDelivery': 'False', 'OutdoorSeati...   \n",
       "4  {'BusinessAcceptsCreditCards': 'True', 'Wheelc...   \n",
       "\n",
       "                                          categories  \\\n",
       "0  Doctors, Traditional Chinese Medicine, Naturop...   \n",
       "1  Shipping Centers, Local Services, Notaries, Ma...   \n",
       "2  Department Stores, Shopping, Fashion, Home & G...   \n",
       "3  Restaurants, Food, Bubble Tea, Coffee & Tea, B...   \n",
       "4                          Brewpubs, Breweries, Food   \n",
       "\n",
       "                                               hours  \n",
       "0                                                NaN  \n",
       "1  {'Monday': '0:0-0:0', 'Tuesday': '8:0-18:30', ...  \n",
       "2  {'Monday': '8:0-22:0', 'Tuesday': '8:0-22:0', ...  \n",
       "3  {'Monday': '7:0-20:0', 'Tuesday': '7:0-20:0', ...  \n",
       "4  {'Wednesday': '14:0-22:0', 'Thursday': '16:0-2...  "
      ]
     },
     "execution_count": 3,
     "metadata": {},
     "output_type": "execute_result"
    }
   ],
   "source": [
    "# loading the businesses dataset\n",
    "business= pd.read_csv(\"./data/business.csv\")\n",
    "# previewing the datasetdata.loc[ data.categories.str.contains('Restaurants')]\n",
    "business.head()"
   ]
  },
  {
   "cell_type": "code",
   "execution_count": 4,
   "id": "2e3c29e4",
   "metadata": {},
   "outputs": [
    {
     "name": "stdout",
     "output_type": "stream",
     "text": [
      "<class 'pandas.core.frame.DataFrame'>\n",
      "RangeIndex: 54380 entries, 0 to 54379\n",
      "Data columns (total 14 columns):\n",
      " #   Column        Non-Null Count  Dtype  \n",
      "---  ------        --------------  -----  \n",
      " 0   business_id   54380 non-null  object \n",
      " 1   name          54380 non-null  object \n",
      " 2   address       52551 non-null  object \n",
      " 3   city          54380 non-null  object \n",
      " 4   state         54380 non-null  object \n",
      " 5   postal_code   54360 non-null  object \n",
      " 6   latitude      54380 non-null  float64\n",
      " 7   longitude     54380 non-null  float64\n",
      " 8   stars         54380 non-null  float64\n",
      " 9   review_count  54380 non-null  int64  \n",
      " 10  is_open       54380 non-null  int64  \n",
      " 11  attributes    49543 non-null  object \n",
      " 12  categories    54342 non-null  object \n",
      " 13  hours         45975 non-null  object \n",
      "dtypes: float64(3), int64(2), object(9)\n",
      "memory usage: 5.8+ MB\n"
     ]
    }
   ],
   "source": [
    "# viewing the datasets features/columns\n",
    "business.info()"
   ]
  },
  {
   "cell_type": "code",
   "execution_count": 5,
   "id": "e86ec6b2",
   "metadata": {},
   "outputs": [
    {
     "data": {
      "text/html": [
       "<div>\n",
       "<style scoped>\n",
       "    .dataframe tbody tr th:only-of-type {\n",
       "        vertical-align: middle;\n",
       "    }\n",
       "\n",
       "    .dataframe tbody tr th {\n",
       "        vertical-align: top;\n",
       "    }\n",
       "\n",
       "    .dataframe thead th {\n",
       "        text-align: right;\n",
       "    }\n",
       "</style>\n",
       "<table border=\"1\" class=\"dataframe\">\n",
       "  <thead>\n",
       "    <tr style=\"text-align: right;\">\n",
       "      <th></th>\n",
       "      <th>review_id</th>\n",
       "      <th>user_id</th>\n",
       "      <th>business_id</th>\n",
       "      <th>stars</th>\n",
       "      <th>useful</th>\n",
       "      <th>funny</th>\n",
       "      <th>cool</th>\n",
       "      <th>text</th>\n",
       "      <th>date</th>\n",
       "    </tr>\n",
       "  </thead>\n",
       "  <tbody>\n",
       "    <tr>\n",
       "      <th>0</th>\n",
       "      <td>KU_O5udG6zpxOg-VcAEodg</td>\n",
       "      <td>mh_-eMZ6K5RLWhZyISBhwA</td>\n",
       "      <td>XQfwVwDr-v0ZS3_CbbE5Xw</td>\n",
       "      <td>3.0</td>\n",
       "      <td>0</td>\n",
       "      <td>0</td>\n",
       "      <td>0</td>\n",
       "      <td>If you decide to eat here, just be aware it is...</td>\n",
       "      <td>2018-07-07 22:09:11</td>\n",
       "    </tr>\n",
       "    <tr>\n",
       "      <th>1</th>\n",
       "      <td>BiTunyQ73aT9WBnpR9DZGw</td>\n",
       "      <td>OyoGAe7OKpv6SyGZT5g77Q</td>\n",
       "      <td>7ATYjTIgM3jUlt4UM3IypQ</td>\n",
       "      <td>5.0</td>\n",
       "      <td>1</td>\n",
       "      <td>0</td>\n",
       "      <td>1</td>\n",
       "      <td>I've taken a lot of spin classes over the year...</td>\n",
       "      <td>2012-01-03 15:28:18</td>\n",
       "    </tr>\n",
       "    <tr>\n",
       "      <th>2</th>\n",
       "      <td>saUsX_uimxRlCVr67Z4Jig</td>\n",
       "      <td>8g_iMtfSiwikVnbP2etR0A</td>\n",
       "      <td>YjUWPpI6HXG530lwP-fb2A</td>\n",
       "      <td>3.0</td>\n",
       "      <td>0</td>\n",
       "      <td>0</td>\n",
       "      <td>0</td>\n",
       "      <td>Family diner. Had the buffet. Eclectic assortm...</td>\n",
       "      <td>2014-02-05 20:30:30</td>\n",
       "    </tr>\n",
       "    <tr>\n",
       "      <th>3</th>\n",
       "      <td>AqPFMleE6RsU23_auESxiA</td>\n",
       "      <td>_7bHUi9Uuf5__HHc_Q8guQ</td>\n",
       "      <td>kxX2SOes4o-D3ZQBkiMRfA</td>\n",
       "      <td>5.0</td>\n",
       "      <td>1</td>\n",
       "      <td>0</td>\n",
       "      <td>1</td>\n",
       "      <td>Wow!  Yummy, different,  delicious.   Our favo...</td>\n",
       "      <td>2015-01-04 00:01:03</td>\n",
       "    </tr>\n",
       "    <tr>\n",
       "      <th>4</th>\n",
       "      <td>Sx8TMOWLNuJBWer-0pcmoA</td>\n",
       "      <td>bcjbaE6dDog4jkNY91ncLQ</td>\n",
       "      <td>e4Vwtrqf-wpJfwesgvdgxQ</td>\n",
       "      <td>4.0</td>\n",
       "      <td>1</td>\n",
       "      <td>0</td>\n",
       "      <td>1</td>\n",
       "      <td>Cute interior and owner (?) gave us tour of up...</td>\n",
       "      <td>2017-01-14 20:54:15</td>\n",
       "    </tr>\n",
       "  </tbody>\n",
       "</table>\n",
       "</div>"
      ],
      "text/plain": [
       "                review_id                 user_id             business_id  \\\n",
       "0  KU_O5udG6zpxOg-VcAEodg  mh_-eMZ6K5RLWhZyISBhwA  XQfwVwDr-v0ZS3_CbbE5Xw   \n",
       "1  BiTunyQ73aT9WBnpR9DZGw  OyoGAe7OKpv6SyGZT5g77Q  7ATYjTIgM3jUlt4UM3IypQ   \n",
       "2  saUsX_uimxRlCVr67Z4Jig  8g_iMtfSiwikVnbP2etR0A  YjUWPpI6HXG530lwP-fb2A   \n",
       "3  AqPFMleE6RsU23_auESxiA  _7bHUi9Uuf5__HHc_Q8guQ  kxX2SOes4o-D3ZQBkiMRfA   \n",
       "4  Sx8TMOWLNuJBWer-0pcmoA  bcjbaE6dDog4jkNY91ncLQ  e4Vwtrqf-wpJfwesgvdgxQ   \n",
       "\n",
       "   stars  useful  funny  cool  \\\n",
       "0    3.0       0      0     0   \n",
       "1    5.0       1      0     1   \n",
       "2    3.0       0      0     0   \n",
       "3    5.0       1      0     1   \n",
       "4    4.0       1      0     1   \n",
       "\n",
       "                                                text                 date  \n",
       "0  If you decide to eat here, just be aware it is...  2018-07-07 22:09:11  \n",
       "1  I've taken a lot of spin classes over the year...  2012-01-03 15:28:18  \n",
       "2  Family diner. Had the buffet. Eclectic assortm...  2014-02-05 20:30:30  \n",
       "3  Wow!  Yummy, different,  delicious.   Our favo...  2015-01-04 00:01:03  \n",
       "4  Cute interior and owner (?) gave us tour of up...  2017-01-14 20:54:15  "
      ]
     },
     "execution_count": 5,
     "metadata": {},
     "output_type": "execute_result"
    }
   ],
   "source": [
    "# loading the second dataset review.csv\n",
    "review=pd.read_csv(\"./data/review.csv\")\n",
    "# previewing the dataset\n",
    "review.head()"
   ]
  },
  {
   "cell_type": "code",
   "execution_count": 6,
   "id": "6b03af7b",
   "metadata": {},
   "outputs": [
    {
     "name": "stdout",
     "output_type": "stream",
     "text": [
      "<class 'pandas.core.frame.DataFrame'>\n",
      "RangeIndex: 54380 entries, 0 to 54379\n",
      "Data columns (total 9 columns):\n",
      " #   Column       Non-Null Count  Dtype  \n",
      "---  ------       --------------  -----  \n",
      " 0   review_id    54380 non-null  object \n",
      " 1   user_id      54380 non-null  object \n",
      " 2   business_id  54380 non-null  object \n",
      " 3   stars        54380 non-null  float64\n",
      " 4   useful       54380 non-null  int64  \n",
      " 5   funny        54380 non-null  int64  \n",
      " 6   cool         54380 non-null  int64  \n",
      " 7   text         54380 non-null  object \n",
      " 8   date         54380 non-null  object \n",
      "dtypes: float64(1), int64(3), object(5)\n",
      "memory usage: 3.7+ MB\n"
     ]
    }
   ],
   "source": [
    "# viewing the datasets features/columns\n",
    "review.info()"
   ]
  },
  {
   "cell_type": "markdown",
   "id": "3cb559da",
   "metadata": {},
   "source": [
    "> After previewing both of the datasets, we now merge them into one dataset, using the **business_id** column as primary key so as to obtain all the feature in one dataset for easier analysis. "
   ]
  },
  {
   "cell_type": "code",
   "execution_count": 7,
   "id": "c527e60b",
   "metadata": {},
   "outputs": [
    {
     "data": {
      "text/html": [
       "<div>\n",
       "<style scoped>\n",
       "    .dataframe tbody tr th:only-of-type {\n",
       "        vertical-align: middle;\n",
       "    }\n",
       "\n",
       "    .dataframe tbody tr th {\n",
       "        vertical-align: top;\n",
       "    }\n",
       "\n",
       "    .dataframe thead th {\n",
       "        text-align: right;\n",
       "    }\n",
       "</style>\n",
       "<table border=\"1\" class=\"dataframe\">\n",
       "  <thead>\n",
       "    <tr style=\"text-align: right;\">\n",
       "      <th></th>\n",
       "      <th>review_id</th>\n",
       "      <th>user_id</th>\n",
       "      <th>business_id</th>\n",
       "      <th>stars_x</th>\n",
       "      <th>useful</th>\n",
       "      <th>funny</th>\n",
       "      <th>cool</th>\n",
       "      <th>text</th>\n",
       "      <th>date</th>\n",
       "      <th>name</th>\n",
       "      <th>...</th>\n",
       "      <th>state</th>\n",
       "      <th>postal_code</th>\n",
       "      <th>latitude</th>\n",
       "      <th>longitude</th>\n",
       "      <th>stars_y</th>\n",
       "      <th>review_count</th>\n",
       "      <th>is_open</th>\n",
       "      <th>attributes</th>\n",
       "      <th>categories</th>\n",
       "      <th>hours</th>\n",
       "    </tr>\n",
       "  </thead>\n",
       "  <tbody>\n",
       "    <tr>\n",
       "      <th>0</th>\n",
       "      <td>KU_O5udG6zpxOg-VcAEodg</td>\n",
       "      <td>mh_-eMZ6K5RLWhZyISBhwA</td>\n",
       "      <td>XQfwVwDr-v0ZS3_CbbE5Xw</td>\n",
       "      <td>3.0</td>\n",
       "      <td>0</td>\n",
       "      <td>0</td>\n",
       "      <td>0</td>\n",
       "      <td>If you decide to eat here, just be aware it is...</td>\n",
       "      <td>2018-07-07 22:09:11</td>\n",
       "      <td>Turning Point of North Wales</td>\n",
       "      <td>...</td>\n",
       "      <td>PA</td>\n",
       "      <td>19454</td>\n",
       "      <td>40.210196</td>\n",
       "      <td>-75.223639</td>\n",
       "      <td>3.0</td>\n",
       "      <td>169</td>\n",
       "      <td>1</td>\n",
       "      <td>{'NoiseLevel': \"u'average'\", 'HasTV': 'False',...</td>\n",
       "      <td>Restaurants, Breakfast &amp; Brunch, Food, Juice B...</td>\n",
       "      <td>{'Monday': '7:30-15:0', 'Tuesday': '7:30-15:0'...</td>\n",
       "    </tr>\n",
       "    <tr>\n",
       "      <th>1</th>\n",
       "      <td>BiTunyQ73aT9WBnpR9DZGw</td>\n",
       "      <td>OyoGAe7OKpv6SyGZT5g77Q</td>\n",
       "      <td>7ATYjTIgM3jUlt4UM3IypQ</td>\n",
       "      <td>5.0</td>\n",
       "      <td>1</td>\n",
       "      <td>0</td>\n",
       "      <td>1</td>\n",
       "      <td>I've taken a lot of spin classes over the year...</td>\n",
       "      <td>2012-01-03 15:28:18</td>\n",
       "      <td>Body Cycle Spinning Studio</td>\n",
       "      <td>...</td>\n",
       "      <td>PA</td>\n",
       "      <td>19119</td>\n",
       "      <td>39.952103</td>\n",
       "      <td>-75.172753</td>\n",
       "      <td>5.0</td>\n",
       "      <td>144</td>\n",
       "      <td>0</td>\n",
       "      <td>{'BusinessAcceptsCreditCards': 'True', 'GoodFo...</td>\n",
       "      <td>Active Life, Cycling Classes, Trainers, Gyms, ...</td>\n",
       "      <td>{'Monday': '6:30-20:30', 'Tuesday': '6:30-20:3...</td>\n",
       "    </tr>\n",
       "    <tr>\n",
       "      <th>2</th>\n",
       "      <td>saUsX_uimxRlCVr67Z4Jig</td>\n",
       "      <td>8g_iMtfSiwikVnbP2etR0A</td>\n",
       "      <td>YjUWPpI6HXG530lwP-fb2A</td>\n",
       "      <td>3.0</td>\n",
       "      <td>0</td>\n",
       "      <td>0</td>\n",
       "      <td>0</td>\n",
       "      <td>Family diner. Had the buffet. Eclectic assortm...</td>\n",
       "      <td>2014-02-05 20:30:30</td>\n",
       "      <td>Kettle Restaurant</td>\n",
       "      <td>...</td>\n",
       "      <td>AZ</td>\n",
       "      <td>85713</td>\n",
       "      <td>32.207233</td>\n",
       "      <td>-110.980864</td>\n",
       "      <td>3.5</td>\n",
       "      <td>47</td>\n",
       "      <td>1</td>\n",
       "      <td>{'RestaurantsReservations': 'True', 'BusinessP...</td>\n",
       "      <td>Restaurants, Breakfast &amp; Brunch</td>\n",
       "      <td>NaN</td>\n",
       "    </tr>\n",
       "    <tr>\n",
       "      <th>3</th>\n",
       "      <td>AqPFMleE6RsU23_auESxiA</td>\n",
       "      <td>_7bHUi9Uuf5__HHc_Q8guQ</td>\n",
       "      <td>kxX2SOes4o-D3ZQBkiMRfA</td>\n",
       "      <td>5.0</td>\n",
       "      <td>1</td>\n",
       "      <td>0</td>\n",
       "      <td>1</td>\n",
       "      <td>Wow!  Yummy, different,  delicious.   Our favo...</td>\n",
       "      <td>2015-01-04 00:01:03</td>\n",
       "      <td>Zaika</td>\n",
       "      <td>...</td>\n",
       "      <td>PA</td>\n",
       "      <td>19114</td>\n",
       "      <td>40.079848</td>\n",
       "      <td>-75.025080</td>\n",
       "      <td>4.0</td>\n",
       "      <td>181</td>\n",
       "      <td>1</td>\n",
       "      <td>{'Caters': 'True', 'Ambience': \"{'romantic': F...</td>\n",
       "      <td>Halal, Pakistani, Restaurants, Indian</td>\n",
       "      <td>{'Tuesday': '11:0-21:0', 'Wednesday': '11:0-21...</td>\n",
       "    </tr>\n",
       "    <tr>\n",
       "      <th>4</th>\n",
       "      <td>Sx8TMOWLNuJBWer-0pcmoA</td>\n",
       "      <td>bcjbaE6dDog4jkNY91ncLQ</td>\n",
       "      <td>e4Vwtrqf-wpJfwesgvdgxQ</td>\n",
       "      <td>4.0</td>\n",
       "      <td>1</td>\n",
       "      <td>0</td>\n",
       "      <td>1</td>\n",
       "      <td>Cute interior and owner (?) gave us tour of up...</td>\n",
       "      <td>2017-01-14 20:54:15</td>\n",
       "      <td>Melt</td>\n",
       "      <td>...</td>\n",
       "      <td>LA</td>\n",
       "      <td>70119</td>\n",
       "      <td>29.962102</td>\n",
       "      <td>-90.087958</td>\n",
       "      <td>4.0</td>\n",
       "      <td>32</td>\n",
       "      <td>0</td>\n",
       "      <td>{'BusinessParking': \"{'garage': False, 'street...</td>\n",
       "      <td>Sandwiches, Beer, Wine &amp; Spirits, Bars, Food, ...</td>\n",
       "      <td>{'Monday': '0:0-0:0', 'Friday': '11:0-17:0', '...</td>\n",
       "    </tr>\n",
       "  </tbody>\n",
       "</table>\n",
       "<p>5 rows × 22 columns</p>\n",
       "</div>"
      ],
      "text/plain": [
       "                review_id                 user_id             business_id  \\\n",
       "0  KU_O5udG6zpxOg-VcAEodg  mh_-eMZ6K5RLWhZyISBhwA  XQfwVwDr-v0ZS3_CbbE5Xw   \n",
       "1  BiTunyQ73aT9WBnpR9DZGw  OyoGAe7OKpv6SyGZT5g77Q  7ATYjTIgM3jUlt4UM3IypQ   \n",
       "2  saUsX_uimxRlCVr67Z4Jig  8g_iMtfSiwikVnbP2etR0A  YjUWPpI6HXG530lwP-fb2A   \n",
       "3  AqPFMleE6RsU23_auESxiA  _7bHUi9Uuf5__HHc_Q8guQ  kxX2SOes4o-D3ZQBkiMRfA   \n",
       "4  Sx8TMOWLNuJBWer-0pcmoA  bcjbaE6dDog4jkNY91ncLQ  e4Vwtrqf-wpJfwesgvdgxQ   \n",
       "\n",
       "   stars_x  useful  funny  cool  \\\n",
       "0      3.0       0      0     0   \n",
       "1      5.0       1      0     1   \n",
       "2      3.0       0      0     0   \n",
       "3      5.0       1      0     1   \n",
       "4      4.0       1      0     1   \n",
       "\n",
       "                                                text                 date  \\\n",
       "0  If you decide to eat here, just be aware it is...  2018-07-07 22:09:11   \n",
       "1  I've taken a lot of spin classes over the year...  2012-01-03 15:28:18   \n",
       "2  Family diner. Had the buffet. Eclectic assortm...  2014-02-05 20:30:30   \n",
       "3  Wow!  Yummy, different,  delicious.   Our favo...  2015-01-04 00:01:03   \n",
       "4  Cute interior and owner (?) gave us tour of up...  2017-01-14 20:54:15   \n",
       "\n",
       "                           name  ... state postal_code   latitude   longitude  \\\n",
       "0  Turning Point of North Wales  ...    PA       19454  40.210196  -75.223639   \n",
       "1    Body Cycle Spinning Studio  ...    PA       19119  39.952103  -75.172753   \n",
       "2             Kettle Restaurant  ...    AZ       85713  32.207233 -110.980864   \n",
       "3                         Zaika  ...    PA       19114  40.079848  -75.025080   \n",
       "4                          Melt  ...    LA       70119  29.962102  -90.087958   \n",
       "\n",
       "   stars_y  review_count  is_open  \\\n",
       "0      3.0           169        1   \n",
       "1      5.0           144        0   \n",
       "2      3.5            47        1   \n",
       "3      4.0           181        1   \n",
       "4      4.0            32        0   \n",
       "\n",
       "                                          attributes  \\\n",
       "0  {'NoiseLevel': \"u'average'\", 'HasTV': 'False',...   \n",
       "1  {'BusinessAcceptsCreditCards': 'True', 'GoodFo...   \n",
       "2  {'RestaurantsReservations': 'True', 'BusinessP...   \n",
       "3  {'Caters': 'True', 'Ambience': \"{'romantic': F...   \n",
       "4  {'BusinessParking': \"{'garage': False, 'street...   \n",
       "\n",
       "                                          categories  \\\n",
       "0  Restaurants, Breakfast & Brunch, Food, Juice B...   \n",
       "1  Active Life, Cycling Classes, Trainers, Gyms, ...   \n",
       "2                    Restaurants, Breakfast & Brunch   \n",
       "3              Halal, Pakistani, Restaurants, Indian   \n",
       "4  Sandwiches, Beer, Wine & Spirits, Bars, Food, ...   \n",
       "\n",
       "                                               hours  \n",
       "0  {'Monday': '7:30-15:0', 'Tuesday': '7:30-15:0'...  \n",
       "1  {'Monday': '6:30-20:30', 'Tuesday': '6:30-20:3...  \n",
       "2                                                NaN  \n",
       "3  {'Tuesday': '11:0-21:0', 'Wednesday': '11:0-21...  \n",
       "4  {'Monday': '0:0-0:0', 'Friday': '11:0-17:0', '...  \n",
       "\n",
       "[5 rows x 22 columns]"
      ]
     },
     "execution_count": 7,
     "metadata": {},
     "output_type": "execute_result"
    }
   ],
   "source": [
    "# merging te two datasets into one using the business_id primary key\n",
    "\n",
    "data=pd.merge(left=review , right=business, how='left', on='business_id')\n",
    "\n",
    "# previewing the new merge dataset\n",
    "data.head()\n"
   ]
  },
  {
   "cell_type": "code",
   "execution_count": 8,
   "id": "067ca9c1",
   "metadata": {},
   "outputs": [
    {
     "name": "stdout",
     "output_type": "stream",
     "text": [
      "<class 'pandas.core.frame.DataFrame'>\n",
      "Int64Index: 54380 entries, 0 to 54379\n",
      "Data columns (total 22 columns):\n",
      " #   Column        Non-Null Count  Dtype  \n",
      "---  ------        --------------  -----  \n",
      " 0   review_id     54380 non-null  object \n",
      " 1   user_id       54380 non-null  object \n",
      " 2   business_id   54380 non-null  object \n",
      " 3   stars_x       54380 non-null  float64\n",
      " 4   useful        54380 non-null  int64  \n",
      " 5   funny         54380 non-null  int64  \n",
      " 6   cool          54380 non-null  int64  \n",
      " 7   text          54380 non-null  object \n",
      " 8   date          54380 non-null  object \n",
      " 9   name          54380 non-null  object \n",
      " 10  address       53926 non-null  object \n",
      " 11  city          54380 non-null  object \n",
      " 12  state         54380 non-null  object \n",
      " 13  postal_code   54380 non-null  object \n",
      " 14  latitude      54380 non-null  float64\n",
      " 15  longitude     54380 non-null  float64\n",
      " 16  stars_y       54380 non-null  float64\n",
      " 17  review_count  54380 non-null  int64  \n",
      " 18  is_open       54380 non-null  int64  \n",
      " 19  attributes    53538 non-null  object \n",
      " 20  categories    54378 non-null  object \n",
      " 21  hours         51279 non-null  object \n",
      "dtypes: float64(4), int64(5), object(13)\n",
      "memory usage: 9.5+ MB\n"
     ]
    }
   ],
   "source": [
    "# previewing the dataset \n",
    "data.info()"
   ]
  },
  {
   "cell_type": "code",
   "execution_count": 9,
   "id": "3a7d3fbb",
   "metadata": {},
   "outputs": [],
   "source": [
    "data.to_csv(\"./data/data.csv\", index=False)"
   ]
  },
  {
   "cell_type": "code",
   "execution_count": 10,
   "id": "26dadb7a",
   "metadata": {},
   "outputs": [
    {
     "data": {
      "text/html": [
       "<div>\n",
       "<style scoped>\n",
       "    .dataframe tbody tr th:only-of-type {\n",
       "        vertical-align: middle;\n",
       "    }\n",
       "\n",
       "    .dataframe tbody tr th {\n",
       "        vertical-align: top;\n",
       "    }\n",
       "\n",
       "    .dataframe thead th {\n",
       "        text-align: right;\n",
       "    }\n",
       "</style>\n",
       "<table border=\"1\" class=\"dataframe\">\n",
       "  <thead>\n",
       "    <tr style=\"text-align: right;\">\n",
       "      <th></th>\n",
       "      <th>stars_x</th>\n",
       "      <th>useful</th>\n",
       "      <th>funny</th>\n",
       "      <th>cool</th>\n",
       "      <th>latitude</th>\n",
       "      <th>longitude</th>\n",
       "      <th>stars_y</th>\n",
       "      <th>review_count</th>\n",
       "      <th>is_open</th>\n",
       "    </tr>\n",
       "  </thead>\n",
       "  <tbody>\n",
       "    <tr>\n",
       "      <th>count</th>\n",
       "      <td>54380.000000</td>\n",
       "      <td>54380.000000</td>\n",
       "      <td>54380.000000</td>\n",
       "      <td>54380.000000</td>\n",
       "      <td>54380.000000</td>\n",
       "      <td>54380.000000</td>\n",
       "      <td>54380.000000</td>\n",
       "      <td>54380.000000</td>\n",
       "      <td>54380.000000</td>\n",
       "    </tr>\n",
       "    <tr>\n",
       "      <th>mean</th>\n",
       "      <td>3.844980</td>\n",
       "      <td>0.890438</td>\n",
       "      <td>0.253567</td>\n",
       "      <td>0.346396</td>\n",
       "      <td>36.050556</td>\n",
       "      <td>-89.005350</td>\n",
       "      <td>3.769796</td>\n",
       "      <td>389.177014</td>\n",
       "      <td>0.766532</td>\n",
       "    </tr>\n",
       "    <tr>\n",
       "      <th>std</th>\n",
       "      <td>1.352256</td>\n",
       "      <td>1.866532</td>\n",
       "      <td>1.035998</td>\n",
       "      <td>1.073067</td>\n",
       "      <td>5.289909</td>\n",
       "      <td>14.446695</td>\n",
       "      <td>0.671340</td>\n",
       "      <td>628.925711</td>\n",
       "      <td>0.423041</td>\n",
       "    </tr>\n",
       "    <tr>\n",
       "      <th>min</th>\n",
       "      <td>1.000000</td>\n",
       "      <td>0.000000</td>\n",
       "      <td>0.000000</td>\n",
       "      <td>0.000000</td>\n",
       "      <td>27.584300</td>\n",
       "      <td>-120.026076</td>\n",
       "      <td>1.000000</td>\n",
       "      <td>5.000000</td>\n",
       "      <td>0.000000</td>\n",
       "    </tr>\n",
       "    <tr>\n",
       "      <th>25%</th>\n",
       "      <td>3.000000</td>\n",
       "      <td>0.000000</td>\n",
       "      <td>0.000000</td>\n",
       "      <td>0.000000</td>\n",
       "      <td>29.967159</td>\n",
       "      <td>-90.239235</td>\n",
       "      <td>3.500000</td>\n",
       "      <td>61.000000</td>\n",
       "      <td>1.000000</td>\n",
       "    </tr>\n",
       "    <tr>\n",
       "      <th>50%</th>\n",
       "      <td>4.000000</td>\n",
       "      <td>0.000000</td>\n",
       "      <td>0.000000</td>\n",
       "      <td>0.000000</td>\n",
       "      <td>38.612534</td>\n",
       "      <td>-86.252569</td>\n",
       "      <td>4.000000</td>\n",
       "      <td>170.000000</td>\n",
       "      <td>1.000000</td>\n",
       "    </tr>\n",
       "    <tr>\n",
       "      <th>75%</th>\n",
       "      <td>5.000000</td>\n",
       "      <td>1.000000</td>\n",
       "      <td>0.000000</td>\n",
       "      <td>0.000000</td>\n",
       "      <td>39.946685</td>\n",
       "      <td>-75.325252</td>\n",
       "      <td>4.000000</td>\n",
       "      <td>430.000000</td>\n",
       "      <td>1.000000</td>\n",
       "    </tr>\n",
       "    <tr>\n",
       "      <th>max</th>\n",
       "      <td>5.000000</td>\n",
       "      <td>91.000000</td>\n",
       "      <td>98.000000</td>\n",
       "      <td>49.000000</td>\n",
       "      <td>53.644501</td>\n",
       "      <td>-74.658572</td>\n",
       "      <td>5.000000</td>\n",
       "      <td>4554.000000</td>\n",
       "      <td>1.000000</td>\n",
       "    </tr>\n",
       "  </tbody>\n",
       "</table>\n",
       "</div>"
      ],
      "text/plain": [
       "            stars_x        useful         funny          cool      latitude  \\\n",
       "count  54380.000000  54380.000000  54380.000000  54380.000000  54380.000000   \n",
       "mean       3.844980      0.890438      0.253567      0.346396     36.050556   \n",
       "std        1.352256      1.866532      1.035998      1.073067      5.289909   \n",
       "min        1.000000      0.000000      0.000000      0.000000     27.584300   \n",
       "25%        3.000000      0.000000      0.000000      0.000000     29.967159   \n",
       "50%        4.000000      0.000000      0.000000      0.000000     38.612534   \n",
       "75%        5.000000      1.000000      0.000000      0.000000     39.946685   \n",
       "max        5.000000     91.000000     98.000000     49.000000     53.644501   \n",
       "\n",
       "          longitude       stars_y  review_count       is_open  \n",
       "count  54380.000000  54380.000000  54380.000000  54380.000000  \n",
       "mean     -89.005350      3.769796    389.177014      0.766532  \n",
       "std       14.446695      0.671340    628.925711      0.423041  \n",
       "min     -120.026076      1.000000      5.000000      0.000000  \n",
       "25%      -90.239235      3.500000     61.000000      1.000000  \n",
       "50%      -86.252569      4.000000    170.000000      1.000000  \n",
       "75%      -75.325252      4.000000    430.000000      1.000000  \n",
       "max      -74.658572      5.000000   4554.000000      1.000000  "
      ]
     },
     "execution_count": 10,
     "metadata": {},
     "output_type": "execute_result"
    }
   ],
   "source": [
    "data.describe()"
   ]
  },
  {
   "cell_type": "markdown",
   "id": "f1441432",
   "metadata": {},
   "source": [
    "## Data Preparation\n",
    "\n",
    "In this section, we will perform data cleaning to prepare the dataset for analysis, the various data cleaning methods that are to be used will be;\n",
    "\n",
    "- Renaming columns\n",
    "- Checking Dealing with missing data\n",
    "- Checking and removing duplicates \n",
    "- Feature Engineering\n",
    "- Selecting the Relevant Columns\n",
    "- Droping Irrelevant columns\n"
   ]
  },
  {
   "cell_type": "markdown",
   "id": "520feef7",
   "metadata": {},
   "source": [
    "### Renaming columns\n",
    "\n",
    "Renaming the **stars_x** and **stars_y** columns into **rating** and **b/s_rating** columns for better understanding"
   ]
  },
  {
   "cell_type": "code",
   "execution_count": 11,
   "id": "645d0721",
   "metadata": {},
   "outputs": [],
   "source": [
    "data.rename(columns={'stars_x':'rating', 'stars_y':'b/s_rating'}, inplace=True)"
   ]
  },
  {
   "cell_type": "markdown",
   "id": "c90beee5",
   "metadata": {},
   "source": [
    "### Dealing with missing data"
   ]
  },
  {
   "cell_type": "code",
   "execution_count": 12,
   "id": "7c88866f",
   "metadata": {},
   "outputs": [
    {
     "data": {
      "text/plain": [
       "review_id          0\n",
       "user_id            0\n",
       "business_id        0\n",
       "rating             0\n",
       "useful             0\n",
       "funny              0\n",
       "cool               0\n",
       "text               0\n",
       "date               0\n",
       "name               0\n",
       "address          454\n",
       "city               0\n",
       "state              0\n",
       "postal_code        0\n",
       "latitude           0\n",
       "longitude          0\n",
       "b/s_rating         0\n",
       "review_count       0\n",
       "is_open            0\n",
       "attributes       842\n",
       "categories         2\n",
       "hours           3101\n",
       "dtype: int64"
      ]
     },
     "execution_count": 12,
     "metadata": {},
     "output_type": "execute_result"
    }
   ],
   "source": [
    "# checking fro columns with missing values\n",
    "data.isna().sum()"
   ]
  },
  {
   "cell_type": "markdown",
   "id": "3a913e2c",
   "metadata": {},
   "source": [
    "> The main columns in our analysis, that will be used to develope the recommendation system are **user_id**, **business_id** and **rating**. Therefore, since the columns that have missing values only provide metadata/ more information about our restaurants i.e **address, attribute, categories ** **and hours**, then we will impute the missing values with \"Not-Avaliable\" since they won't influence our analysis \n"
   ]
  },
  {
   "cell_type": "code",
   "execution_count": 13,
   "id": "21c06984",
   "metadata": {},
   "outputs": [],
   "source": [
    "# Imputing missing values in the address column with \"Not-Available\"\n",
    "data.address.fillna(value=\"Not-Available\", inplace=True)"
   ]
  },
  {
   "cell_type": "code",
   "execution_count": 14,
   "id": "131fcfb1",
   "metadata": {},
   "outputs": [],
   "source": [
    "# Imputing missing values in the attributes column with \"Not-Available\" \n",
    "data.attributes.fillna(value=\"Not-Available\", inplace=True)"
   ]
  },
  {
   "cell_type": "code",
   "execution_count": 15,
   "id": "59eaf75a",
   "metadata": {},
   "outputs": [],
   "source": [
    "# Imputing missing values in the categories column with \"Not-Available\" \n",
    "data.categories.fillna(value=\"Not-Available\", inplace=True)"
   ]
  },
  {
   "cell_type": "code",
   "execution_count": 16,
   "id": "07cbe54c",
   "metadata": {},
   "outputs": [],
   "source": [
    "# Imputing missing values in the hours column with \"Not-Available\" \n",
    "data.hours.fillna(value=\"Not-Available\", inplace=True)"
   ]
  },
  {
   "cell_type": "code",
   "execution_count": 17,
   "id": "50adb8a3",
   "metadata": {},
   "outputs": [
    {
     "data": {
      "text/plain": [
       "review_id       0\n",
       "user_id         0\n",
       "business_id     0\n",
       "rating          0\n",
       "useful          0\n",
       "funny           0\n",
       "cool            0\n",
       "text            0\n",
       "date            0\n",
       "name            0\n",
       "address         0\n",
       "city            0\n",
       "state           0\n",
       "postal_code     0\n",
       "latitude        0\n",
       "longitude       0\n",
       "b/s_rating      0\n",
       "review_count    0\n",
       "is_open         0\n",
       "attributes      0\n",
       "categories      0\n",
       "hours           0\n",
       "dtype: int64"
      ]
     },
     "execution_count": 17,
     "metadata": {},
     "output_type": "execute_result"
    }
   ],
   "source": [
    "# previewing our changes\n",
    "data.isna().sum()"
   ]
  },
  {
   "cell_type": "markdown",
   "id": "dd47e78e",
   "metadata": {},
   "source": [
    "### Dealing with Duplicates"
   ]
  },
  {
   "cell_type": "code",
   "execution_count": 18,
   "id": "fcc9baf5",
   "metadata": {},
   "outputs": [
    {
     "name": "stdout",
     "output_type": "stream",
     "text": [
      "Duplicates:  0\n"
     ]
    }
   ],
   "source": [
    "# checking for duplicated columns\n",
    "print(\"Duplicates: \",data.duplicated().sum())"
   ]
  },
  {
   "cell_type": "markdown",
   "id": "9d13253e",
   "metadata": {},
   "source": [
    "> - Our data has no duplicates"
   ]
  },
  {
   "cell_type": "markdown",
   "id": "df7fc0f9",
   "metadata": {},
   "source": [
    "### Feature Engineering\n",
    "\n",
    "In feaure engineering, we will combine the **city**, **state**, **address** columns to form one column, **location** column."
   ]
  },
  {
   "cell_type": "code",
   "execution_count": 19,
   "id": "ef4406ab",
   "metadata": {},
   "outputs": [
    {
     "data": {
      "text/plain": [
       "0        State:PA, City:North Wales, Address:1460 Bethl...\n",
       "1        State:PA, City:Philadelphia, Address:1923 Ches...\n",
       "2        State:AZ, City:Tucson, Address:748 W Starr Pas...\n",
       "3        State:PA, City:Philadelphia, Address:2481 Gran...\n",
       "4        State:LA, City:New Orleans, Address:2549 Banks...\n",
       "                               ...                        \n",
       "54375       State:ID, City:Boise, Address:590 E Boise Ave \n",
       "54376    State:MO, City:Saint Louis, Address:1 S Broadway \n",
       "54377    State:CA, City:Santa Barbara, Address:119 E Co...\n",
       "54378    State:LA, City:New Orleans, Address:1418 Magaz...\n",
       "54379    State:PA, City:West Chester, Address:1233 W Ch...\n",
       "Name: location, Length: 54380, dtype: object"
      ]
     },
     "execution_count": 19,
     "metadata": {},
     "output_type": "execute_result"
    }
   ],
   "source": [
    "# combining the address columns\n",
    "data['location']=data[['city','state','address']]\\\n",
    "            .apply( lambda x: f\"State:{x['state']}, City:{x['city']}, Address:{x['address']} \", axis=1)\n",
    "\n",
    "# then we drop the combined columns\n",
    "data.drop(columns=['state', 'city','address'], axis=1, inplace=True)\n",
    "\n",
    "data.location"
   ]
  },
  {
   "cell_type": "code",
   "execution_count": 20,
   "id": "a32d1850",
   "metadata": {
    "scrolled": false
   },
   "outputs": [
    {
     "data": {
      "text/plain": [
       "0        Restaurants, Breakfast & Brunch, Food, Juice B...\n",
       "1        Active Life, Cycling Classes, Trainers, Gyms, ...\n",
       "2                          Restaurants, Breakfast & Brunch\n",
       "3                    Halal, Pakistani, Restaurants, Indian\n",
       "4        Sandwiches, Beer, Wine & Spirits, Bars, Food, ...\n",
       "                               ...                        \n",
       "54375                                    Thai, Restaurants\n",
       "54376                                   Restaurants, Pizza\n",
       "54377    Food, Farmers Market, Specialty Food, Fruits &...\n",
       "54378    Vegetarian, Restaurants, Breakfast & Brunch, C...\n",
       "54379              Pizza, Restaurants, Sandwiches, Italian\n",
       "Name: categories, Length: 54380, dtype: object"
      ]
     },
     "execution_count": 20,
     "metadata": {},
     "output_type": "execute_result"
    }
   ],
   "source": [
    "# categories\n",
    "data.categories"
   ]
  },
  {
   "cell_type": "markdown",
   "id": "2cf72a76",
   "metadata": {},
   "source": [
    "### Data Spliting\n",
    "Since our data contains several businesses other than restaurants, then w'll only selects the business that are restaurants"
   ]
  },
  {
   "cell_type": "code",
   "execution_count": 21,
   "id": "ad7dfe2e",
   "metadata": {},
   "outputs": [
    {
     "data": {
      "text/plain": [
       "(39334, 20)"
      ]
     },
     "execution_count": 21,
     "metadata": {},
     "output_type": "execute_result"
    }
   ],
   "source": [
    "# skecting only the restaurants from our dataset\n",
    "data=data.loc[ data.categories.str.contains('Restaurants')].copy()\n",
    "data.shape"
   ]
  },
  {
   "cell_type": "markdown",
   "id": "98c14588",
   "metadata": {},
   "source": [
    "### Droping Irrelevant columns\n",
    "The columns **funny, cool, is_open, and date ** are not informative in our analysis and will not be used during analysis, therefore we drop them"
   ]
  },
  {
   "cell_type": "code",
   "execution_count": 22,
   "id": "6021665d",
   "metadata": {},
   "outputs": [],
   "source": [
    "# droping unrelevant collumn\n",
    "cols=['review_id','postal_code','funny', 'cool', 'is_open', 'date']\n",
    "data.drop(columns=cols, axis=1, inplace=True)"
   ]
  },
  {
   "cell_type": "code",
   "execution_count": null,
   "id": "62083e9b",
   "metadata": {},
   "outputs": [],
   "source": []
  },
  {
   "cell_type": "markdown",
   "id": "3dbf8734",
   "metadata": {},
   "source": [
    "## Explatory Data Analysis"
   ]
  },
  {
   "cell_type": "markdown",
   "id": "69717d4f",
   "metadata": {},
   "source": [
    "#### 1.Distribution of Ratings"
   ]
  },
  {
   "cell_type": "code",
   "execution_count": 23,
   "id": "7bba0c5c",
   "metadata": {},
   "outputs": [
    {
     "data": {
      "image/png": "[encoded data removed]",
      "text/plain": [
       "<Figure size 1500x600 with 2 Axes>"
      ]
     },
     "metadata": {},
     "output_type": "display_data"
    }
   ],
   "source": [
    "# Assuming you have a DataFrame named 'df' and two numerical columns 'column1' and 'column2'\n",
    "column1 = 'rating'\n",
    "column2 = 'b/s_rating'\n",
    "\n",
    "# Create a figure with subplots\n",
    "fig, axes = plt.subplots(1, 2, figsize=(15, 6))  # Adjust the figsize as needed\n",
    "\n",
    "# Create histograms for column1 and column2\n",
    " \n",
    "sns.countplot(data=data, x=column1 ,ax=axes[0] , color='tab:blue')\n",
    "# Adjust the number of bins as needed\n",
    "axes[0].set_xlabel(\"User ratings\")\n",
    "axes[0].set_ylabel('Frequency')\n",
    "axes[0].set_title(f'Histogram of User ratings')\n",
    "\n",
    "sns.countplot(data=data, x=column2 ,ax=axes[1] ,color='tab:blue')\n",
    "  # Adjust the number of bins as needed\n",
    "axes[1].set_xlabel(\"Business ratings\")\n",
    "axes[1].set_ylabel('Frequency')\n",
    "axes[1].set_title(f'Histogram of Business ratings')\n",
    "# Adjust the spacing between subplots\n",
    "plt.tight_layout()\n",
    "\n",
    "# Show the plots\n",
    "plt.show()"
   ]
  },
  {
   "cell_type": "code",
   "execution_count": 24,
   "id": "aeec85fc",
   "metadata": {},
   "outputs": [
    {
     "data": {
      "text/html": [
       "<div>\n",
       "<style scoped>\n",
       "    .dataframe tbody tr th:only-of-type {\n",
       "        vertical-align: middle;\n",
       "    }\n",
       "\n",
       "    .dataframe tbody tr th {\n",
       "        vertical-align: top;\n",
       "    }\n",
       "\n",
       "    .dataframe thead th {\n",
       "        text-align: right;\n",
       "    }\n",
       "</style>\n",
       "<table border=\"1\" class=\"dataframe\">\n",
       "  <thead>\n",
       "    <tr style=\"text-align: right;\">\n",
       "      <th></th>\n",
       "      <th>rating</th>\n",
       "      <th>b/s_rating</th>\n",
       "      <th>review_count</th>\n",
       "    </tr>\n",
       "  </thead>\n",
       "  <tbody>\n",
       "    <tr>\n",
       "      <th>rating</th>\n",
       "      <td>1.000000</td>\n",
       "      <td>0.409173</td>\n",
       "      <td>0.106111</td>\n",
       "    </tr>\n",
       "    <tr>\n",
       "      <th>b/s_rating</th>\n",
       "      <td>0.409173</td>\n",
       "      <td>1.000000</td>\n",
       "      <td>0.237139</td>\n",
       "    </tr>\n",
       "    <tr>\n",
       "      <th>review_count</th>\n",
       "      <td>0.106111</td>\n",
       "      <td>0.237139</td>\n",
       "      <td>1.000000</td>\n",
       "    </tr>\n",
       "  </tbody>\n",
       "</table>\n",
       "</div>"
      ],
      "text/plain": [
       "                rating  b/s_rating  review_count\n",
       "rating        1.000000    0.409173      0.106111\n",
       "b/s_rating    0.409173    1.000000      0.237139\n",
       "review_count  0.106111    0.237139      1.000000"
      ]
     },
     "execution_count": 24,
     "metadata": {},
     "output_type": "execute_result"
    }
   ],
   "source": [
    "df_1 = data[['rating', 'b/s_rating', 'review_count']]\n",
    "df_1.corr()"
   ]
  },
  {
   "cell_type": "markdown",
   "id": "4bf5e22e",
   "metadata": {},
   "source": [
    "#### 2.Distribution of Categories"
   ]
  },
  {
   "cell_type": "code",
   "execution_count": 25,
   "id": "5e32deb4",
   "metadata": {},
   "outputs": [
    {
     "data": {
      "image/png": "[encoded data removed]",
      "text/plain": [
       "<Figure size 800x500 with 1 Axes>"
      ]
     },
     "metadata": {},
     "output_type": "display_data"
    }
   ],
   "source": [
    "import collections\n",
    "# list of all categories\n",
    "categories=[ cat for category in data.drop_duplicates('business_id').categories for cat in category.split(',')]\n",
    "# list of unique categories only\n",
    "categories=collections.Counter(categories)\n",
    "#picking the top 20 categories\n",
    "common=categories.most_common(12)\n",
    "# ploting\n",
    "fig, ax=plt.subplots(figsize=(8,5))\n",
    "x=[ i[0] for i in common[2:]]\n",
    "y=[i[1] for i in common[2:]]\n",
    "sns.barplot(x=x, y=y, color='tab:blue', ax=ax)\n",
    "ax.set_xlabel(\"Categories\")\n",
    "ax.tick_params(axis='x', labelrotation=90)\n",
    "ax.set_ylabel(\"Counts\")\n",
    "ax.set_ylim([300,900])\n",
    "ax.set_title(\"Top 10 Restaurant Categories\");\n",
    "ax.bar_label( ax.containers[0], padding=3, fmt='{:,}');"
   ]
  },
  {
   "cell_type": "markdown",
   "id": "45b33bc6",
   "metadata": {},
   "source": [
    "#### 3 Distribution of Restaurants"
   ]
  },
  {
   "cell_type": "markdown",
   "id": "4bcf2dc6",
   "metadata": {},
   "source": [
    "##### i)cities"
   ]
  },
  {
   "cell_type": "code",
   "execution_count": 26,
   "id": "17a5af93",
   "metadata": {},
   "outputs": [
    {
     "data": {
      "image/png": "[encoded data removed]",
      "text/plain": [
       "<Figure size 700x500 with 1 Axes>"
      ]
     },
     "metadata": {},
     "output_type": "display_data"
    }
   ],
   "source": [
    "\n",
    "location= data.drop_duplicates('business_id')[['location']]\n",
    "city=location.location.apply(lambda x: x.split(',')[1].replace(\"City:\",''))\n",
    "city=collections.Counter(city)\n",
    "city=city.most_common(10)\n",
    "y=[i[0] for i in city]\n",
    "x=[i[1] for i in city]\n",
    "fig, ax=plt.subplots(figsize=(7,5))\n",
    "sns.barplot( y=y, x=x, color='tab:blue')\n",
    "ax.set_ylabel(\"City Names\")\n",
    "ax.set_xlabel(\"Count\")\n",
    "ax.set_title(\"City Counts\");\n",
    "ax.bar_label( ax.containers[0],padding=3, fmt='{:,}');"
   ]
  },
  {
   "cell_type": "markdown",
   "id": "b7125ba3",
   "metadata": {},
   "source": [
    "##### ii) States"
   ]
  },
  {
   "cell_type": "code",
   "execution_count": 27,
   "id": "3f6787ba",
   "metadata": {},
   "outputs": [
    {
     "data": {
      "image/png": "[encoded data removed]",
      "text/plain": [
       "<Figure size 800x400 with 1 Axes>"
      ]
     },
     "metadata": {},
     "output_type": "display_data"
    }
   ],
   "source": [
    "states=location.location.apply(lambda x: x.split(',')[0].replace(\"State:\",''))\n",
    "states=collections.Counter(states)\n",
    "states=states.most_common(10)\n",
    "y=[i[0] for i in states]\n",
    "x=[i[1] for i in states]\n",
    "fig, ax=plt.subplots(figsize=(8,4))\n",
    "sns.barplot( y=x,x=y , color='tab:blue')\n",
    "ax.set_ylabel(\"States\")\n",
    "ax.set_xlabel(\"Count\")\n",
    "ax.set_title(\"State Counts\");\n",
    "ax.bar_label( ax.containers[0],padding=3, fmt='{:,}');"
   ]
  },
  {
   "cell_type": "code",
   "execution_count": 28,
   "id": "c4c961cb",
   "metadata": {},
   "outputs": [
    {
     "data": {
      "text/plain": [
       "(39334, 14)"
      ]
     },
     "execution_count": 28,
     "metadata": {},
     "output_type": "execute_result"
    }
   ],
   "source": [
    "data.shape"
   ]
  },
  {
   "cell_type": "code",
   "execution_count": 30,
   "id": "cca8752d",
   "metadata": {},
   "outputs": [],
   "source": [
    "new_df = data[['user_id', 'business_id', 'rating']]\n",
    "from surprise import Reader, Dataset\n",
    "reader = Reader()\n",
    "data_2 = Dataset.load_from_df(new_df,reader)"
   ]
  },
  {
   "cell_type": "code",
   "execution_count": 31,
   "id": "ce1cfc6c",
   "metadata": {},
   "outputs": [
    {
     "name": "stdout",
     "output_type": "stream",
     "text": [
      "Number of users:  34497 \n",
      "\n",
      "Number of Restaurants:  3720\n"
     ]
    }
   ],
   "source": [
    "dataset = data_2.build_full_trainset()\n",
    "print('Number of users: ', dataset.n_users, '\\n')\n",
    "print('Number of Restaurants: ', dataset.n_items)"
   ]
  },
  {
   "cell_type": "code",
   "execution_count": 32,
   "id": "1e9beedb",
   "metadata": {},
   "outputs": [],
   "source": [
    "# importing relevant libraries\n",
    "from surprise.model_selection import cross_validate\n",
    "from surprise.prediction_algorithms import SVD\n",
    "from surprise.prediction_algorithms import KNNWithMeans, KNNBasic, KNNBaseline\n",
    "from surprise.model_selection import GridSearchCV\n",
    "import numpy as np"
   ]
  },
  {
   "cell_type": "code",
   "execution_count": 33,
   "id": "a9df4332",
   "metadata": {},
   "outputs": [],
   "source": [
    "params = {'n_factors': [20, 50, 100],\n",
    "         'reg_all': [0.02, 0.05, 0.1]}\n",
    "g_s_svd = GridSearchCV(SVD,param_grid=params,n_jobs=-1)\n",
    "g_s_svd.fit(data_2)"
   ]
  },
  {
   "cell_type": "code",
   "execution_count": 34,
   "id": "f66a825d",
   "metadata": {},
   "outputs": [
    {
     "name": "stdout",
     "output_type": "stream",
     "text": [
      "{'rmse': 1.253582612089693, 'mae': 1.0072146346802735}\n",
      "{'rmse': {'n_factors': 20, 'reg_all': 0.05}, 'mae': {'n_factors': 20, 'reg_all': 0.02}}\n"
     ]
    }
   ],
   "source": [
    "print(g_s_svd.best_score)\n",
    "print(g_s_svd.best_params)"
   ]
  },
  {
   "cell_type": "code",
   "execution_count": 35,
   "id": "54d34e78",
   "metadata": {},
   "outputs": [],
   "source": [
    "df_3 = business[['business_id', 'name', 'categories']].copy()\n",
    "df_3['categories'].fillna('', inplace=True)  # Replace NaN values with an empty string\n",
    "df_restaurant = df_3.loc[df_3['categories'].str.contains('Restaurants')]"
   ]
  },
  {
   "cell_type": "code",
   "execution_count": 36,
   "id": "00c1f249",
   "metadata": {},
   "outputs": [
    {
     "data": {
      "text/plain": [
       "<surprise.prediction_algorithms.matrix_factorization.SVD at 0x1845777b8e0>"
      ]
     },
     "execution_count": 36,
     "metadata": {},
     "output_type": "execute_result"
    }
   ],
   "source": [
    "svd = SVD(n_factors= 20, reg_all=0.02)\n",
    "svd.fit(dataset)"
   ]
  },
  {
   "cell_type": "code",
   "execution_count": 37,
   "id": "7757dfe1",
   "metadata": {},
   "outputs": [
    {
     "data": {
      "text/plain": [
       "Prediction(uid='8g_iMtfSiwikVnbP2etR0A', iid='Pns2l4eNsfO8kk83dixA6A', r_ui=None, est=3.7350885918278065, details={'was_impossible': False})"
      ]
     },
     "execution_count": 37,
     "metadata": {},
     "output_type": "execute_result"
    }
   ],
   "source": [
    "svd.predict(\"8g_iMtfSiwikVnbP2etR0A\", \"Pns2l4eNsfO8kk83dixA6A\")"
   ]
  },
  {
   "cell_type": "code",
   "execution_count": 38,
   "id": "65b5c0d5",
   "metadata": {},
   "outputs": [
    {
     "data": {
      "text/html": [
       "<div>\n",
       "<style scoped>\n",
       "    .dataframe tbody tr th:only-of-type {\n",
       "        vertical-align: middle;\n",
       "    }\n",
       "\n",
       "    .dataframe tbody tr th {\n",
       "        vertical-align: top;\n",
       "    }\n",
       "\n",
       "    .dataframe thead th {\n",
       "        text-align: right;\n",
       "    }\n",
       "</style>\n",
       "<table border=\"1\" class=\"dataframe\">\n",
       "  <thead>\n",
       "    <tr style=\"text-align: right;\">\n",
       "      <th></th>\n",
       "      <th>business_id</th>\n",
       "      <th>name</th>\n",
       "      <th>categories</th>\n",
       "    </tr>\n",
       "  </thead>\n",
       "  <tbody>\n",
       "    <tr>\n",
       "      <th>3</th>\n",
       "      <td>MTSW4McQd7CbVtyjqoe9mw</td>\n",
       "      <td>St Honore Pastries</td>\n",
       "      <td>Restaurants, Food, Bubble Tea, Coffee &amp; Tea, B...</td>\n",
       "    </tr>\n",
       "    <tr>\n",
       "      <th>5</th>\n",
       "      <td>CF33F8-E6oudUQ46HnavjQ</td>\n",
       "      <td>Sonic Drive-In</td>\n",
       "      <td>Burgers, Fast Food, Sandwiches, Food, Ice Crea...</td>\n",
       "    </tr>\n",
       "    <tr>\n",
       "      <th>8</th>\n",
       "      <td>k0hlBqXX-Bt0vf1op7Jr1w</td>\n",
       "      <td>Tsevi's Pub And Grill</td>\n",
       "      <td>Pubs, Restaurants, Italian, Bars, American (Tr...</td>\n",
       "    </tr>\n",
       "    <tr>\n",
       "      <th>9</th>\n",
       "      <td>bBDDEgkFA1Otx9Lfe7BZUQ</td>\n",
       "      <td>Sonic Drive-In</td>\n",
       "      <td>Ice Cream &amp; Frozen Yogurt, Fast Food, Burgers,...</td>\n",
       "    </tr>\n",
       "    <tr>\n",
       "      <th>11</th>\n",
       "      <td>eEOYSgkmpB90uNA7lDOMRA</td>\n",
       "      <td>Vietnamese Food Truck</td>\n",
       "      <td>Vietnamese, Food, Restaurants, Food Trucks</td>\n",
       "    </tr>\n",
       "  </tbody>\n",
       "</table>\n",
       "</div>"
      ],
      "text/plain": [
       "               business_id                   name  \\\n",
       "3   MTSW4McQd7CbVtyjqoe9mw     St Honore Pastries   \n",
       "5   CF33F8-E6oudUQ46HnavjQ         Sonic Drive-In   \n",
       "8   k0hlBqXX-Bt0vf1op7Jr1w  Tsevi's Pub And Grill   \n",
       "9   bBDDEgkFA1Otx9Lfe7BZUQ         Sonic Drive-In   \n",
       "11  eEOYSgkmpB90uNA7lDOMRA  Vietnamese Food Truck   \n",
       "\n",
       "                                           categories  \n",
       "3   Restaurants, Food, Bubble Tea, Coffee & Tea, B...  \n",
       "5   Burgers, Fast Food, Sandwiches, Food, Ice Crea...  \n",
       "8   Pubs, Restaurants, Italian, Bars, American (Tr...  \n",
       "9   Ice Cream & Frozen Yogurt, Fast Food, Burgers,...  \n",
       "11         Vietnamese, Food, Restaurants, Food Trucks  "
      ]
     },
     "execution_count": 38,
     "metadata": {},
     "output_type": "execute_result"
    }
   ],
   "source": [
    "df_restaurant.head()"
   ]
  },
  {
   "cell_type": "code",
   "execution_count": 50,
   "id": "e10dcb9f",
   "metadata": {},
   "outputs": [],
   "source": [
    "from tabulate import tabulate\n",
    "def restaurant_rater(user_id,num, category=None):\n",
    "    userID = user_id\n",
    "    rating_list = []\n",
    "    while num > 0:\n",
    "        if category:\n",
    "            restaurant = df_restaurant[df_restaurant['categories'].str.contains(category)].sample(1)\n",
    "        else:\n",
    "            restaurant = df_restaurant.sample(1)\n",
    "        print(tabulate(restaurant, headers='keys', tablefmt='fancy_grid', showindex=False))\n",
    "        rating = input('How do you rate this movie on a scale of 1-5, press n if you have not seen :\\n')\n",
    "        if rating == 'n':\n",
    "            continue\n",
    "        else:\n",
    "            rating_one_movie = {'user_id':userID,'business_id':restaurant['business_id'].values[0],'rating':rating}\n",
    "            rating_list.append(rating_one_movie) \n",
    "            num -= 1\n",
    "    return rating_list"
   ]
  },
  {
   "cell_type": "code",
   "execution_count": null,
   "id": "aa9cd931",
   "metadata": {},
   "outputs": [],
   "source": [
    "user_rating = restaurant_rater(\"8g_iMtfSiwikVnbP2etR0A\", 4, 'Sandwiches')"
   ]
  },
  {
   "cell_type": "code",
   "execution_count": 53,
   "id": "4f1f1b3f",
   "metadata": {},
   "outputs": [],
   "source": [
    "user_ratings = pd.DataFrame(user_rating)\n",
    "new_ratings_df = pd.concat([new_df, user_ratings], axis=0)\n",
    "new_data = Dataset.load_from_df(new_ratings_df,reader)"
   ]
  },
  {
   "cell_type": "code",
   "execution_count": 54,
   "id": "04026853",
   "metadata": {},
   "outputs": [
    {
     "data": {
      "text/plain": [
       "<surprise.prediction_algorithms.matrix_factorization.SVD at 0x1845777b2e0>"
      ]
     },
     "execution_count": 54,
     "metadata": {},
     "output_type": "execute_result"
    }
   ],
   "source": [
    "# train a model using the new combined DataFrame\n",
    "svd_ = SVD(n_factors= 20, reg_all=0.02)\n",
    "svd_.fit(new_data.build_full_trainset())"
   ]
  },
  {
   "cell_type": "code",
   "execution_count": 56,
   "id": "4d63aa32",
   "metadata": {},
   "outputs": [],
   "source": [
    "# make predictions for the user\n",
    "# you'll probably want to create a list of tuples in the format (movie_id, predicted_score)\n",
    "list_of_restaurants = []\n",
    "for m_id in new_df['business_id'].unique():\n",
    "    list_of_restaurants.append( (m_id,svd_.predict(1000,m_id)[3]))"
   ]
  },
  {
   "cell_type": "code",
   "execution_count": 62,
   "id": "b005a1d9",
   "metadata": {},
   "outputs": [],
   "source": [
    "ranked_restaurants = sorted(list_of_restaurants, key=lambda x:x[1], reverse=True)"
   ]
  },
  {
   "cell_type": "code",
   "execution_count": 82,
   "id": "2715a042",
   "metadata": {},
   "outputs": [
    {
     "name": "stdout",
     "output_type": "stream",
     "text": [
      "Recommendation #  1\n",
      "╒════════════════════════╤═════════════════╤═══════════════════════════════════════════════════════════════════════════════╕\n",
      "│ business_id            │ name            │ categories                                                                    │\n",
      "╞════════════════════════╪═════════════════╪═══════════════════════════════════════════════════════════════════════════════╡\n",
      "│ _aKr7POnacW_VizRKBpCiA │ Blues City Deli │ Delis, Bars, Restaurants, Nightlife, Pubs, American (Traditional), Sandwiches │\n",
      "╘════════════════════════╧═════════════════╧═══════════════════════════════════════════════════════════════════════════════╛\n",
      "Recommendation #  2\n",
      "╒════════════════════════╤═══════════════════════════════╤══════════════════════════════════════════════════════════════════════╕\n",
      "│ business_id            │ name                          │ categories                                                           │\n",
      "╞════════════════════════╪═══════════════════════════════╪══════════════════════════════════════════════════════════════════════╡\n",
      "│ YCHBSWYErsKAI9AXeoPxhQ │ Sabrina's West Street Kitchen │ Sandwiches, American (New), Restaurants, Salad, Soup, Tacos, Mexican │\n",
      "╘════════════════════════╧═══════════════════════════════╧══════════════════════════════════════════════════════════════════════╛\n",
      "Recommendation #  3\n",
      "╒════════════════════════╤═════════════════════════╤═══════════════════════════════════════════════════════════╕\n",
      "│ business_id            │ name                    │ categories                                                │\n",
      "╞════════════════════════╪═════════════════════════╪═══════════════════════════════════════════════════════════╡\n",
      "│ 9_m_iA3VAqGBJEW5XLc-5w │ The Cuban Sandwich Shop │ Food, Restaurants, Cuban, Coffee & Tea, Cafes, Sandwiches │\n",
      "╘════════════════════════╧═════════════════════════╧═══════════════════════════════════════════════════════════╛\n"
     ]
    }
   ],
   "source": [
    "def recommended_movies(ranked_restaurants,df_restaurant,n):\n",
    "        for idx, rec in enumerate(ranked_restaurants):\n",
    "            title = df_restaurant.loc[df_restaurant['business_id'] == rec[0]]\n",
    "            print('Recommendation # ', idx+1)\n",
    "            print(tabulate(title, headers='keys', tablefmt='fancy_grid', showindex=False))\n",
    "            n-= 1\n",
    "            if n == 0:\n",
    "                break\n",
    "            \n",
    "recommended_movies(ranked_restaurants,df_restaurant,3)"
   ]
  }
 ],
 "metadata": {
  "kernelspec": {
   "display_name": "learn-env",
   "language": "python",
   "name": "python3"
  },
  "language_info": {
   "codemirror_mode": {
    "name": "ipython",
    "version": 3
   },
   "file_extension": ".py",
   "mimetype": "text/x-python",
   "name": "python",
   "nbconvert_exporter": "python",
   "pygments_lexer": "ipython3",
   "version": "3.10.9"
  },
  "toc": {
   "base_numbering": 1,
   "nav_menu": {},
   "number_sections": true,
   "sideBar": true,
   "skip_h1_title": false,
   "title_cell": "Table of Contents",
   "title_sidebar": "Contents",
   "toc_cell": false,
   "toc_position": {},
   "toc_section_display": true,
   "toc_window_display": false
  }
 },
 "nbformat": 4,
 "nbformat_minor": 5
}
