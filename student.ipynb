{
 "cells": [
  {
   "cell_type": "markdown",
   "id": "b518c2fd",
   "metadata": {},
   "source": [
    "## Phase 5 Capstone Project\n",
    "\n",
    "Group Members\n",
    "\n",
    "* Wendy Muturi\n",
    "* Mulei Mutuku\n",
    "* Margaret Mitey\n",
    "* Jeff Kiarie\n",
    "* Linus Gichuhi\n",
    "* Joshua Ooko\n",
    "\n",
    "## Business Understanding"
   ]
  },
  {
   "cell_type": "markdown",
   "id": "e9ba433d",
   "metadata": {},
   "source": [
    "## Data Understanding"
   ]
  },
  {
   "cell_type": "code",
   "execution_count": null,
   "id": "145d44e2",
   "metadata": {},
   "outputs": [],
   "source": []
  },
  {
   "cell_type": "code",
   "execution_count": null,
   "id": "2773b0e8",
   "metadata": {},
   "outputs": [],
   "source": []
  },
  {
   "cell_type": "code",
   "execution_count": null,
   "id": "e86ec6b2",
   "metadata": {},
   "outputs": [],
   "source": []
  }
 ],
 "metadata": {
  "kernelspec": {
   "display_name": "Python (learn-env)",
   "language": "python",
   "name": "learn-env"
  },
  "language_info": {
   "codemirror_mode": {
    "name": "ipython",
    "version": 3
   },
   "file_extension": ".py",
   "mimetype": "text/x-python",
   "name": "python",
   "nbconvert_exporter": "python",
   "pygments_lexer": "ipython3",
   "version": "3.10.11"
  },
  "toc": {
   "base_numbering": 1,
   "nav_menu": {},
   "number_sections": true,
   "sideBar": true,
   "skip_h1_title": false,
   "title_cell": "Table of Contents",
   "title_sidebar": "Contents",
   "toc_cell": false,
   "toc_position": {},
   "toc_section_display": true,
   "toc_window_display": false
  }
 },
 "nbformat": 4,
 "nbformat_minor": 5
}
